{
 "cells": [
  {
   "cell_type": "code",
   "execution_count": 3,
   "id": "5f1fc91c-e9a2-406b-a7d1-42113b573656",
   "metadata": {},
   "outputs": [
    {
     "name": "stderr",
     "output_type": "stream",
     "text": [
      "582160it [11:11, 866.79it/s] \n"
     ]
    }
   ],
   "source": [
    "from pathlib import Path\n",
    "import glob\n",
    "from tqdm import tqdm\n",
    "import json\n",
    "import pandas as pd\n",
    "\n",
    "import nltk\n",
    "\n",
    "filename = []\n",
    "\n",
    "for id, p in tqdm(enumerate(glob.glob('wiki_727/*/*/*/*', recursive=True))):\n",
    "    sections = Path(p).read_text().strip().split('========') \n",
    "    for section in sections:\n",
    "        \n",
    "        sentences = nltk.sent_tokenize(section)\n",
    "        for i in range(len(sentences)):\n",
    "\n",
    "            if sentences[i].strip():\n",
    "                \n",
    "                if sentences[i].find(',')==0: \n",
    "                    continue\n",
    "\n",
    "                single_sent = {}\n",
    "                single_sent['genre']='wiki'\n",
    "                single_sent['document_id'] = single_sent['genre']+str(id)\n",
    "                single_sent['sent'] = sentences[i]\n",
    "\n",
    "                if i==len(sentences)-1:\n",
    "                    single_sent['boundary'] = 'yes'\n",
    "                else:\n",
    "                    single_sent['boundary'] = 'no'\n",
    "                \n",
    "                filename.append(single_sent)\n",
    "\n",
    "df_file = pd.DataFrame(filename)\n",
    "\n",
    "df_file.to_csv('wiki.tsv', sep='\\t')\n",
    "\n"
   ]
  }
 ],
 "metadata": {
  "kernelspec": {
   "display_name": "Python 3 (ipykernel)",
   "language": "python",
   "name": "python3"
  },
  "language_info": {
   "codemirror_mode": {
    "name": "ipython",
    "version": 3
   },
   "file_extension": ".py",
   "mimetype": "text/x-python",
   "name": "python",
   "nbconvert_exporter": "python",
   "pygments_lexer": "ipython3",
   "version": "3.11.5"
  }
 },
 "nbformat": 4,
 "nbformat_minor": 5
}
