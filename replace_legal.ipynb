{
 "cells": [
  {
   "cell_type": "code",
   "execution_count": 1,
   "id": "03ae8a72-4156-428c-aed9-e733241f2a14",
   "metadata": {
    "tags": []
   },
   "outputs": [],
   "source": [
    "import json\n",
    "import pandas"
   ]
  },
  {
   "cell_type": "code",
   "execution_count": 4,
   "id": "2b206f2a-a95f-4363-b938-25b6b6a2bf54",
   "metadata": {
    "tags": []
   },
   "outputs": [
    {
     "name": "stdout",
     "output_type": "stream",
     "text": [
      "10000\n",
      "2500\n",
      "7500\n",
      "10000\n"
     ]
    }
   ],
   "source": [
    "with open('balanced_data_10000.json') as f:\n",
    "    original = json.load(f)\n",
    "\n",
    "with open('literature_data_2500/lit.json') as f:\n",
    "    lit = json.load(f)\n",
    "\n",
    "print(len(original))\n",
    "print(len(lit))\n",
    "\n",
    "    \n",
    "modified = []\n",
    "\n",
    "for sent in original:\n",
    "    if sent['genre'] != 'legal':\n",
    "        modified.append(sent)\n",
    "\n",
    "print(len(modified))\n",
    "\n",
    "modified += lit\n",
    "\n",
    "with open('with_lit_balanced_data_1000.json', 'w') as wf:\n",
    "    json.dump(modified, wf, indent=4)\n",
    "    \n",
    "print(len(modified))"
   ]
  },
  {
   "cell_type": "code",
   "execution_count": null,
   "id": "06427de5-ca19-4292-b481-9e64e662e4bb",
   "metadata": {},
   "outputs": [],
   "source": []
  }
 ],
 "metadata": {
  "kernelspec": {
   "display_name": "Python 3 (ipykernel)",
   "language": "python",
   "name": "python3"
  },
  "language_info": {
   "codemirror_mode": {
    "name": "ipython",
    "version": 3
   },
   "file_extension": ".py",
   "mimetype": "text/x-python",
   "name": "python",
   "nbconvert_exporter": "python",
   "pygments_lexer": "ipython3",
   "version": "3.11.4"
  }
 },
 "nbformat": 4,
 "nbformat_minor": 5
}
