{
 "cells": [
  {
   "cell_type": "code",
   "execution_count": 1,
   "id": "e8dbaba5-aca1-4816-897f-cb300958eef5",
   "metadata": {
    "tags": []
   },
   "outputs": [],
   "source": [
    "from nltk.metrics import windowdiff\n",
    "import random\n",
    "import math\n",
    "import json"
   ]
  },
  {
   "cell_type": "code",
   "execution_count": 2,
   "id": "d8eab5c0-1838-4247-8ad1-0714cd9a3374",
   "metadata": {
    "tags": []
   },
   "outputs": [],
   "source": [
    "def get_avg_sec_len(data):\n",
    "    lens = []\n",
    "    count = 0\n",
    "    for i, s in enumerate(data):\n",
    "        count +=1\n",
    "        if s['boundary'] == 'no': \n",
    "            if i != len(data)-1 and data[i+1]['boundary'] == 'yes':\n",
    "                lens.append(count)\n",
    "                count = 0\n",
    "    #print(lens)\n",
    "    return math.ceil(sum(lens) / len(lens))\n",
    "                \n",
    "        "
   ]
  },
  {
   "cell_type": "code",
   "execution_count": 3,
   "id": "1fea1872-6ea7-490f-820f-5b3746a604fb",
   "metadata": {
    "tags": []
   },
   "outputs": [],
   "source": [
    "def get_baseline(train_f, test_f, method):\n",
    "    baseline = \"\"\n",
    "    with open(train_f) as f:\n",
    "        train_data = json.load(f)\n",
    "    with open(test_f) as tf:\n",
    "        test_data = json.load(tf)\n",
    "    if method == 'random':\n",
    "        baseline = \"\".join(random.choice('01') for i in range(len(test_data)))\n",
    "    elif method == 'mean':\n",
    "        x = get_avg_sec_len(train_data)\n",
    "        every_x = ['1' if i % x == 0 else '0' for i in range(len(test_data))]\n",
    "        baseline = \"\".join(every_x)\n",
    "    return baseline\n",
    "                                                         \n",
    "                           "
   ]
  },
  {
   "cell_type": "code",
   "execution_count": 4,
   "id": "0999bbf4-0544-41a0-9af5-ecd0c6bcf23f",
   "metadata": {
    "tags": []
   },
   "outputs": [],
   "source": [
    "def get_gold(test_f):\n",
    "    with open(test_f) as f:\n",
    "        data = json.load(f)\n",
    "        labels = \"\"\n",
    "        for s in data:\n",
    "            if s['boundary'] == 'no':\n",
    "                labels += '0'\n",
    "            else:\n",
    "                labels += '1'\n",
    "    return labels"
   ]
  },
  {
   "cell_type": "code",
   "execution_count": 7,
   "id": "632ab309-2423-4514-a345-129ea76affdd",
   "metadata": {
    "tags": []
   },
   "outputs": [],
   "source": [
    "balanced_rand_bl = get_baseline('withlit_balance_train_10000.json', 'withlit_balance_test_10000.json', method='random')\n",
    "balanced_mean_bl = get_baseline('withlit_balance_train_10000.json', 'withlit_balance_test_10000.json', method='mean')\n",
    "balanced_gold = get_gold('withlit_balance_test_10000.json')\n",
    "\n",
    "trans_rand_bl = get_baseline('by_genre_train_test_split/no_transcript_train.json', 'by_genre_train_test_split/transcript_test.json', method='random')\n",
    "trans_mean_bl = get_baseline('by_genre_train_test_split/no_transcript_train.json', 'by_genre_train_test_split/transcript_test.json', method='mean')\n",
    "trans_gold = get_gold('by_genre_train_test_split/transcript_test.json')\n",
    "\n",
    "gen_rand_bl = get_baseline('by_genre_train_test_split/no_general_train.json', 'by_genre_train_test_split/general_test.json', method='random')\n",
    "gen_mean_bl = get_baseline('by_genre_train_test_split/no_general_train.json', 'by_genre_train_test_split/general_test.json', method='mean')\n",
    "gen_gold = get_gold('by_genre_train_test_split/general_test.json')\n",
    "\n",
    "wiki_rand_bl = get_baseline('by_genre_train_test_split/no_wiki_train.json', 'by_genre_train_test_split/wiki_test.json', method='random')\n",
    "wiki_mean_bl = get_baseline('by_genre_train_test_split/no_wiki_train.json', 'by_genre_train_test_split/wiki_test.json', method='mean')\n",
    "wiki_gold = get_gold('by_genre_train_test_split/wiki_test.json')\n",
    "\n",
    "lit_rand_bl = get_baseline('by_genre_train_test_split/no_literature_train.json', 'by_genre_train_test_split/literature_test.json', method='random')\n",
    "lit_mean_bl = get_baseline('by_genre_train_test_split/no_literature_train.json', 'by_genre_train_test_split/literature_test.json', method='mean')\n",
    "lit_gold = get_gold('by_genre_train_test_split/literature_test.json')"
   ]
  },
  {
   "cell_type": "code",
   "execution_count": 8,
   "id": "1b6d2856-6923-4653-8c16-01934dc543fc",
   "metadata": {
    "tags": []
   },
   "outputs": [
    {
     "name": "stdout",
     "output_type": "stream",
     "text": [
      "0.942397856664434\n",
      "0.6557267247153382\n"
     ]
    }
   ],
   "source": [
    "# Balanced windowdiff\n",
    "b_rand_wd = windowdiff(balanced_rand_bl, balanced_gold, 8)\n",
    "b_mean_wd = windowdiff(balanced_mean_bl, balanced_gold, 8)\n",
    "print(b_rand_wd)\n",
    "print(b_mean_wd)\n"
   ]
  },
  {
   "cell_type": "code",
   "execution_count": 9,
   "id": "8844d65b-d654-4eb1-b283-bacf54fd811a",
   "metadata": {
    "tags": []
   },
   "outputs": [
    {
     "name": "stdout",
     "output_type": "stream",
     "text": [
      "0.9951865222623345\n",
      "0.9755314881668672\n"
     ]
    }
   ],
   "source": [
    "# Trans windowdiff\n",
    "trans_rand_wd = windowdiff(trans_rand_bl, trans_gold, 8)\n",
    "trans_mean_wd = windowdiff(trans_mean_bl, trans_gold, 8)\n",
    "print(trans_rand_wd)\n",
    "print(trans_mean_wd)"
   ]
  },
  {
   "cell_type": "code",
   "execution_count": 10,
   "id": "3f30a979-2f8f-4a99-9d44-0f6501772ac9",
   "metadata": {
    "tags": []
   },
   "outputs": [
    {
     "name": "stdout",
     "output_type": "stream",
     "text": [
      "0.9779382270357\n",
      "0.2823906939430405\n"
     ]
    }
   ],
   "source": [
    "# General windowdiff\n",
    "gen_rand_wd = windowdiff(gen_rand_bl, gen_gold, 8)\n",
    "gen_mean_wd = windowdiff(gen_mean_bl, gen_gold, 8)\n",
    "print(gen_rand_wd)\n",
    "print(gen_mean_wd)"
   ]
  },
  {
   "cell_type": "code",
   "execution_count": 11,
   "id": "00a746f9-1f32-4e2d-9c61-678b1f21ce72",
   "metadata": {
    "tags": []
   },
   "outputs": [
    {
     "name": "stdout",
     "output_type": "stream",
     "text": [
      "0.9578820697954272\n",
      "0.5904532691536302\n"
     ]
    }
   ],
   "source": [
    "# Wiki windowdiff\n",
    "wiki_rand_wd = windowdiff(wiki_rand_bl, wiki_gold, 8)\n",
    "wiki_mean_wd = windowdiff(wiki_mean_bl, wiki_gold, 8)\n",
    "print(wiki_rand_wd)\n",
    "print(wiki_mean_wd)"
   ]
  },
  {
   "cell_type": "code",
   "execution_count": 12,
   "id": "4f41ea48-496d-49c3-a112-248074afabc7",
   "metadata": {
    "tags": []
   },
   "outputs": [
    {
     "name": "stdout",
     "output_type": "stream",
     "text": [
      "0.8937023666265543\n",
      "0.7561171279582832\n"
     ]
    }
   ],
   "source": [
    "# lit windowdiff\n",
    "lit_rand_wd = windowdiff(lit_rand_bl, lit_gold, 8)\n",
    "lit_mean_wd = windowdiff(lit_mean_bl, lit_gold, 8)\n",
    "print(lit_rand_wd)\n",
    "print(lit_mean_wd)"
   ]
  },
  {
   "cell_type": "code",
   "execution_count": null,
   "id": "6567a119-8605-4b01-b463-7b22b39cbda1",
   "metadata": {},
   "outputs": [],
   "source": []
  }
 ],
 "metadata": {
  "kernelspec": {
   "display_name": "Python 3 (ipykernel)",
   "language": "python",
   "name": "python3"
  },
  "language_info": {
   "codemirror_mode": {
    "name": "ipython",
    "version": 3
   },
   "file_extension": ".py",
   "mimetype": "text/x-python",
   "name": "python",
   "nbconvert_exporter": "python",
   "pygments_lexer": "ipython3",
   "version": "3.11.4"
  }
 },
 "nbformat": 4,
 "nbformat_minor": 5
}
