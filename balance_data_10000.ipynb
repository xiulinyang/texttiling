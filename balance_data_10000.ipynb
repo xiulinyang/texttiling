{
 "cells": [
  {
   "cell_type": "markdown",
   "id": "5cefee68-7c6b-4fc5-81a5-e543c2e35f34",
   "metadata": {},
   "source": [
    "Creates a balanced subset of 10000 total sentences, with 2500 from each genre"
   ]
  },
  {
   "cell_type": "code",
   "execution_count": 48,
   "id": "f37b3340-9915-47b7-966d-0741b5f49d60",
   "metadata": {
    "tags": []
   },
   "outputs": [],
   "source": [
    "import json"
   ]
  },
  {
   "cell_type": "code",
   "execution_count": 52,
   "id": "0faef7fd-e21d-42b8-868f-21895ce417ef",
   "metadata": {
    "tags": []
   },
   "outputs": [
    {
     "name": "stdout",
     "output_type": "stream",
     "text": [
      "35155010\n"
     ]
    }
   ],
   "source": [
    "PATH = '/Users/devikatiwari/Downloads/data/'\n",
    "\n",
    "total = []\n",
    "with open(PATH+'train.json', 'r') as f:\n",
    "    train = json.load(f)\n",
    "with open(PATH+'dev.json', 'r') as f:\n",
    "    dev = json.load(f)\n",
    "with open(PATH+'test.json', 'r') as f:\n",
    "    test = json.load(f)\n",
    "\n",
    "total = train + dev + test\n",
    "print(len(total))\n",
    "\n",
    "# O_PATH = PATH + 'total_sample.json'\n",
    "\n",
    "# with open(O_PATH, 'w') as output_file:\n",
    "#         json.dump(total, output_file, indent=4)"
   ]
  },
  {
   "cell_type": "code",
   "execution_count": 59,
   "id": "e2ffacf6-53b6-4ccf-a8da-19fd233769bc",
   "metadata": {
    "tags": []
   },
   "outputs": [],
   "source": [
    "def get_genre_from_id(doc_id):\n",
    "    genres = ['general', 'wiki', 'transcript', 'legal']\n",
    "    for g in genres:\n",
    "        if g in doc_id:\n",
    "            return g\n",
    "    return 'legal'"
   ]
  },
  {
   "cell_type": "code",
   "execution_count": 64,
   "id": "d881ee82-350b-4eb4-9c19-76ef40251823",
   "metadata": {
    "tags": []
   },
   "outputs": [
    {
     "name": "stdout",
     "output_type": "stream",
     "text": [
      "Control of socioeconomic status It would have been desirable for the two communities to have differed only in respect to the variable being investigated : the degree of structure in teaching method . \n"
     ]
    }
   ],
   "source": [
    "print(total[0]['sent'])"
   ]
  },
  {
   "cell_type": "code",
   "execution_count": 67,
   "id": "2d30badc-a4cc-4047-9b45-5bc4f611215c",
   "metadata": {
    "tags": []
   },
   "outputs": [
    {
     "name": "stdout",
     "output_type": "stream",
     "text": [
      "35155010\n"
     ]
    }
   ],
   "source": [
    "# Fix formatting of data\n",
    "# genre, doc_id, sent, boundary\n",
    "\n",
    "formatted_total_data = []\n",
    "\n",
    "genres = ['general', 'wiki', 'transcript', 'legal']\n",
    "\n",
    "for i, s in enumerate(total):\n",
    "    #print(i)\n",
    "    genre = ''\n",
    "    document_id = ''\n",
    "    sent = ''\n",
    "    boundary = ''\n",
    "    genre = get_genre_from_id(s['document_id'])\n",
    "    document_id = s['document_id']\n",
    "    if s.get('sent') is not None:\n",
    "        sent = s['sent']\n",
    "    else:\n",
    "        sent = s['sentence']\n",
    "    boundary = s['boundary']\n",
    "    new_dict = {'genre':genre, 'document_id':document_id, 'sent':sent, 'boundary':boundary}\n",
    "    formatted_total_data.append(new_dict)\n",
    "print(len(formatted_total_data))"
   ]
  },
  {
   "cell_type": "code",
   "execution_count": 93,
   "id": "619ebb56-a74c-455f-9183-65f66026c647",
   "metadata": {
    "tags": []
   },
   "outputs": [
    {
     "name": "stdout",
     "output_type": "stream",
     "text": [
      "2500\n",
      "2500\n",
      "2500\n",
      "2500\n",
      "10000\n"
     ]
    }
   ],
   "source": [
    "# For each genre, take 2500 sentences\n",
    "# Gets end of document if \n",
    "\n",
    "def get_2500(genre, data):\n",
    "    subset = []\n",
    "    for dict in data:\n",
    "        if len(subset) == 2500:\n",
    "            break\n",
    "        if dict['genre'] == genre:\n",
    "            subset.append(dict)\n",
    "    print(len(subset))\n",
    "    return subset\n",
    "            \n",
    "sampled_data = []\n",
    "for g in genres:\n",
    "    sample = get_2500(g, formatted_total_data)\n",
    "    sampled_data += sample\n",
    "\n",
    "print(len(sampled_data))"
   ]
  },
  {
   "cell_type": "code",
   "execution_count": 98,
   "id": "58c4c0da-a42e-4627-8098-0742b3760631",
   "metadata": {
    "tags": []
   },
   "outputs": [
    {
     "name": "stdout",
     "output_type": "stream",
     "text": [
      "95\n"
     ]
    }
   ],
   "source": [
    "# Organize data by document\n",
    "import random\n",
    "\n",
    "grouped_sents = {}\n",
    "\n",
    "for sent in sampled_data:\n",
    "    doc_id = sent['document_id']\n",
    "    if doc_id not in grouped_sents:\n",
    "        grouped_sents[doc_id] = []\n",
    "    grouped_sents[doc_id].append(sent)\n",
    "\n",
    "    \n",
    "# Shuffle dictionary by document_id\n",
    "\n",
    "keys_list = list(grouped_sents.keys())\n",
    "\n",
    "# Shuffle the list of keys in-place\n",
    "random.shuffle(keys_list)\n",
    "\n",
    "# Create a new dictionary with the shuffled keys\n",
    "shuffled_dict = {key: grouped_sents[key] for key in keys_list}\n",
    "\n",
    "\n",
    "print(len(grouped_sents))"
   ]
  },
  {
   "cell_type": "code",
   "execution_count": 105,
   "id": "c38fce2d-3e38-425d-a405-e21372e9c093",
   "metadata": {
    "tags": []
   },
   "outputs": [
    {
     "name": "stdout",
     "output_type": "stream",
     "text": [
      "10000\n"
     ]
    }
   ],
   "source": [
    "# Get list of sents from dictionary\n",
    "\n",
    "shuffled_sents = []\n",
    "for doc in shuffled_dict:\n",
    "    shuffled_sents += shuffled_dict[doc]\n",
    "print(len(shuffled_sents))"
   ]
  },
  {
   "cell_type": "code",
   "execution_count": 106,
   "id": "2ed7a960-5b06-4b51-bc15-2ac70a305b84",
   "metadata": {
    "tags": []
   },
   "outputs": [],
   "source": [
    "# Write these shuffled sentences to a json file\n",
    "\n",
    "with open('balanced_data_10000.json', 'w') as jf:\n",
    "    json.dump(shuffled_sents, jf, indent=4)"
   ]
  },
  {
   "cell_type": "code",
   "execution_count": null,
   "id": "6155cf5e-7dcb-4ff6-b3eb-6a0a1be0db8a",
   "metadata": {},
   "outputs": [],
   "source": []
  }
 ],
 "metadata": {
  "kernelspec": {
   "display_name": "Python 3 (ipykernel)",
   "language": "python",
   "name": "python3"
  },
  "language_info": {
   "codemirror_mode": {
    "name": "ipython",
    "version": 3
   },
   "file_extension": ".py",
   "mimetype": "text/x-python",
   "name": "python",
   "nbconvert_exporter": "python",
   "pygments_lexer": "ipython3",
   "version": "3.11.4"
  }
 },
 "nbformat": 4,
 "nbformat_minor": 5
}
