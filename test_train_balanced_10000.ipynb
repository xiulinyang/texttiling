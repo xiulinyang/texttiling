{
 "cells": [
  {
   "cell_type": "code",
   "execution_count": 1,
   "id": "3089baee",
   "metadata": {},
   "outputs": [],
   "source": [
    "import json\n",
    "\n",
    "with open('balanced_data_10000.json', 'r') as file: \n",
    "    data = json.load(file)\n",
    "\n",
    "grouped_dict = {}\n",
    "# group dictionaries based on genre\n",
    "for item in data:\n",
    "    genre = item[\"genre\"]\n",
    "    if genre not in grouped_dict:\n",
    "        grouped_dict[genre] = []\n",
    "    grouped_dict[genre].append(item)\n",
    "\n",
    "result_lists = list(grouped_dict.values())"
   ]
  },
  {
   "cell_type": "code",
   "execution_count": 41,
   "id": "52748c9b",
   "metadata": {},
   "outputs": [],
   "source": [
    "import random\n",
    "\n",
    "def shuffle_split(data):\n",
    "    # Shuffle by document_id (keeping everything from the same document_id together)\n",
    "    shuffled_data = sorted(data, key=lambda x: (x['document_id'], random.random()))\n",
    "\n",
    "    split_index = int(len(shuffled_data) * 0.85)\n",
    "    train_data = shuffled_data[:split_index]\n",
    "    test_data = shuffled_data[split_index:]\n",
    "\n",
    "    return train_data, test_data \n",
    "\n",
    "train1, test1 = shuffle_split(result_lists[0])\n",
    "train2, test2 = shuffle_split(result_lists[1]) \n",
    "train3, test3 = shuffle_split(result_lists[2]) \n",
    "train4, test4 = shuffle_split(result_lists[3])\n",
    "\n",
    "combined_train = train1 + train2 + train3 + train4\n",
    "combined_test = test1 + test2 + test3 + test4\n",
    "\n",
    "# Shuffle by document_id (keeping everything from the same document_id together)\n",
    "shuffled_train = sorted(combined_train, key=lambda x: (x['document_id'], random.random()))\n",
    "shuffled_test = sorted(combined_test, key=lambda x: (x['document_id'], random.random()))"
   ]
  },
  {
   "cell_type": "code",
   "execution_count": 42,
   "id": "e1dcd103",
   "metadata": {},
   "outputs": [],
   "source": [
    "with open('balance_train_10000.json', 'w') as file: \n",
    "    json.dump(shuffled_train, file)\n",
    "\n",
    "with open('balance_test_10000.json', 'w') as file: \n",
    "    json.dump(shuffled_test, file)"
   ]
  },
  {
   "cell_type": "code",
   "execution_count": 43,
   "id": "25f4e066",
   "metadata": {},
   "outputs": [
    {
     "name": "stdout",
     "output_type": "stream",
     "text": [
      "Number of unique genres: 4\n",
      "Unique genres: {'legal', 'transcript', 'wiki', 'general'}\n",
      "Number of unique id: 82\n",
      "Number of dicts: 8500\n",
      "\n",
      "Number of unique genres: 4\n",
      "Unique genres: {'legal', 'transcript', 'wiki', 'general'}\n",
      "Number of unique id: 17\n",
      "Number of dicts: 1500\n",
      "\n"
     ]
    }
   ],
   "source": [
    "with open('balance_train_10000.json', 'r') as file: \n",
    "    data_train = json.load(file)\n",
    "\n",
    "with open('balance_test_10000.json', 'r') as file: \n",
    "    data_test = json.load(file)\n",
    "\n",
    "unique_genres = set(item[\"genre\"] for item in data_train)\n",
    "unique_id = set(item[\"document_id\"] for item in data_train)\n",
    "num_unique_genres = len(unique_genres)\n",
    "num_unique_id = len(unique_id)\n",
    "num_dict = len(data_train)\n",
    "\n",
    "print(f\"Number of unique genres: {num_unique_genres}\")\n",
    "print(f\"Unique genres: {unique_genres}\")\n",
    "print(f\"Number of unique id: {num_unique_id}\")\n",
    "print(f\"Number of dicts: {num_dict}\")\n",
    "\n",
    "\n",
    "unique_genres = set(item[\"genre\"] for item in data_test)\n",
    "unique_id = set(item[\"document_id\"] for item in data_test)\n",
    "num_unique_genres = len(unique_genres)\n",
    "num_unique_id = len(unique_id)\n",
    "num_dict = len(data_test)\n",
    "\n",
    "print(f\"Number of unique genres: {num_unique_genres}\")\n",
    "print(f\"Unique genres: {unique_genres}\")\n",
    "print(f\"Number of unique id: {num_unique_id}\")\n",
    "print(f\"Number of dicts: {num_dict}\")\n"
   ]
  }
 ],
 "metadata": {
  "kernelspec": {
   "display_name": "Python 3 (ipykernel)",
   "language": "python",
   "name": "python3"
  },
  "language_info": {
   "codemirror_mode": {
    "name": "ipython",
    "version": 3
   },
   "file_extension": ".py",
   "mimetype": "text/x-python",
   "name": "python",
   "nbconvert_exporter": "python",
   "pygments_lexer": "ipython3",
   "version": "3.11.5"
  }
 },
 "nbformat": 4,
 "nbformat_minor": 5
}
