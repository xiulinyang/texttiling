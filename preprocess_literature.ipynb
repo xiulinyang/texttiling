{
 "cells": [
  {
   "cell_type": "code",
   "execution_count": 31,
   "id": "b87b1451",
   "metadata": {},
   "outputs": [],
   "source": [
    "input_file_path = 'literature2.txt'\n",
    "output_file_path = 'lit.txt'\n",
    "boundary_line = '========'\n",
    "\n",
    "with open(input_file_path, 'r') as input_file:\n",
    "    content = input_file.read()\n",
    "\n",
    "paragraphs = content.split('\\n\\n')  \n",
    "\n",
    "formatted_content = '\\n'.join([paragraph + '\\n' + boundary_line for paragraph in paragraphs])\n",
    "\n",
    "with open(output_file_path, 'w') as output_file:\n",
    "    output_file.write(formatted_content)\n"
   ]
  },
  {
   "cell_type": "code",
   "execution_count": 32,
   "id": "f4d4d49f",
   "metadata": {},
   "outputs": [
    {
     "name": "stderr",
     "output_type": "stream",
     "text": [
      "602it [00:00, 12775.03it/s]\n"
     ]
    }
   ],
   "source": [
    "import pandas as pd\n",
    "from tqdm import tqdm\n",
    "import json\n",
    "from nltk.tokenize import sent_tokenize\n",
    "\n",
    "filename = []\n",
    "\n",
    "txt_file_path = 'lit.txt'\n",
    "\n",
    "with open(txt_file_path, 'r', encoding='utf-8') as txt_file:\n",
    "    content = txt_file.read()\n",
    "\n",
    "sections = content.strip().split('========')\n",
    "\n",
    "max_dicts = 2500\n",
    "current_dicts = 0\n",
    "\n",
    "for id, section in tqdm(enumerate(sections)):\n",
    "    sentences = sent_tokenize(section)\n",
    "    for i, sentence in enumerate(sentences):\n",
    "        if sentence.strip():\n",
    "            if sentence.find(',') == 0:\n",
    "                continue\n",
    "\n",
    "            single_sent = {}\n",
    "            single_sent['genre'] = 'literature'\n",
    "            single_sent['document_id'] = single_sent['genre'] + '0'\n",
    "            single_sent['sent'] = sentence\n",
    "\n",
    "            if i == 0:  # Mark \"yes\" at the start of the section boundary\n",
    "                single_sent['boundary'] = 'yes'\n",
    "            else:\n",
    "                single_sent['boundary'] = 'no'\n",
    "\n",
    "            filename.append(single_sent)\n",
    "            current_dicts += 1\n",
    "\n",
    "            if current_dicts == max_dicts:\n",
    "                break\n",
    "\n",
    "    if current_dicts == max_dicts:\n",
    "        break\n",
    "\n",
    "df_file = pd.DataFrame(filename)\n",
    "\n",
    "df_file.to_csv('lit.tsv', sep='\\t', index=False)\n",
    "\n",
    "\n"
   ]
  },
  {
   "cell_type": "code",
   "execution_count": 33,
   "id": "8abacdfa",
   "metadata": {},
   "outputs": [
    {
     "name": "stderr",
     "output_type": "stream",
     "text": [
      "100%|██████████| 2500/2500 [00:00<00:00, 35025.27it/s]\n"
     ]
    }
   ],
   "source": [
    "filename = []\n",
    "tsv_file_path = 'lit.tsv'\n",
    "df_file = pd.read_csv(tsv_file_path, sep='\\t')\n",
    "\n",
    "for idx, row in tqdm(df_file.iterrows(), total=len(df_file)):\n",
    "\n",
    "    cleaned_sentence = row['sent'].replace('\\n', ' ')\n",
    "    \n",
    "    if cleaned_sentence.strip():\n",
    "        single_sent = {\n",
    "            'genre': row['genre'],\n",
    "            'document_id': row['document_id'],\n",
    "            'sent': cleaned_sentence,\n",
    "            'boundary': row['boundary']\n",
    "        }\n",
    "        filename.append(single_sent)\n",
    "\n",
    "json_file_path = 'lit.json'\n",
    "with open(json_file_path, 'w', encoding='utf-8') as json_file:\n",
    "    json.dump(filename, json_file, ensure_ascii=False, indent=2)\n"
   ]
  }
 ],
 "metadata": {
  "kernelspec": {
   "display_name": "Python 3 (ipykernel)",
   "language": "python",
   "name": "python3"
  },
  "language_info": {
   "codemirror_mode": {
    "name": "ipython",
    "version": 3
   },
   "file_extension": ".py",
   "mimetype": "text/x-python",
   "name": "python",
   "nbconvert_exporter": "python",
   "pygments_lexer": "ipython3",
   "version": "3.11.5"
  }
 },
 "nbformat": 4,
 "nbformat_minor": 5
}
