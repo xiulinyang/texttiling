{
 "cells": [
  {
   "cell_type": "code",
   "execution_count": 8,
   "id": "b76b50a4-f1d8-462e-9171-87e2ecdb49fa",
   "metadata": {},
   "outputs": [],
   "source": [
    "import json\n",
    "from sklearn.model_selection import train_test_split\n",
    "\n",
    "with open('all_balanced_data.json', 'r') as file: \n",
    "    data = json.load(file)\n",
    "\n",
    "# create list of unqiue document_ids \n",
    "unique_document_ids = list(set(d['document_id'] for d in data))\n",
    "# train-test split on unqiue doc_id\n",
    "train, test = train_test_split(unique_document_ids, test_size=0.15, random_state=42)\n",
    "# select correspsonding dictionaries for train and test\n",
    "train_data = [dictionary for dictionary in data if dictionary['document_id'] in train]\n",
    "test_data = [dictionary for dictionary in data if dictionary['document_id'] in test]\n",
    "\n",
    "with open('balanced_train.json', 'w') as file: \n",
    "    json.dump(train_data, file)\n",
    "\n",
    "with open('balanced_test.json', 'w') as file: \n",
    "    json.dump(test_data, file)\n",
    "\n",
    "\n"
   ]
  }
 ],
 "metadata": {
  "kernelspec": {
   "display_name": "Python 3 (ipykernel)",
   "language": "python",
   "name": "python3"
  },
  "language_info": {
   "codemirror_mode": {
    "name": "ipython",
    "version": 3
   },
   "file_extension": ".py",
   "mimetype": "text/x-python",
   "name": "python",
   "nbconvert_exporter": "python",
   "pygments_lexer": "ipython3",
   "version": "3.11.5"
  }
 },
 "nbformat": 4,
 "nbformat_minor": 5
}
